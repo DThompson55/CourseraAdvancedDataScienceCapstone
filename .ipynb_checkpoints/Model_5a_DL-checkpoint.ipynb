{
 "cells": [
  {
   "cell_type": "markdown",
   "metadata": {},
   "source": [
    "# Model 5 - Deep Learning\n",
    "\n",
    "This model takes the information from the ETL module, and creates a deep learning algorithm that should predict call volumes for each zipcode based on weather. Let's see\n"
   ]
  },
  {
   "cell_type": "code",
   "execution_count": 1,
   "metadata": {},
   "outputs": [
    {
     "name": "stdout",
     "output_type": "stream",
     "text": [
      "Libraries imported.\n"
     ]
    }
   ],
   "source": [
    "import pandas as pd\n",
    "import numpy as np\n",
    "\n",
    "%matplotlib inline \n",
    "import matplotlib.pyplot as plt\n",
    "\n",
    "\n",
    "#import keras\n",
    "#from keras.layers import Dense\n",
    "#from keras.models import Sequential\n",
    "import sklearn\n",
    "from sklearn import metrics\n",
    "from sklearn import preprocessing\n",
    "from sklearn.metrics import jaccard_similarity_score\n",
    "from sklearn.metrics import mean_absolute_error\n",
    "from sklearn.metrics import mean_squared_error\n",
    "from sklearn.metrics import r2_score\n",
    "from sklearn.model_selection import train_test_split\n",
    "from sklearn.multiclass import OneVsRestClassifier\n",
    "from sklearn.preprocessing import LabelEncoder\n",
    "from sklearn.preprocessing import MinMaxScaler\n",
    "from sklearn.preprocessing import MultiLabelBinarizer\n",
    "\n",
    "from sklearn.svm import SVC\n",
    "print('Libraries imported.')\n"
   ]
  },
  {
   "cell_type": "markdown",
   "metadata": {},
   "source": [
    "## Zipcodes\n",
    "\n",
    "The zipcode data includes the cluster data that was generated in Model 4"
   ]
  },
  {
   "cell_type": "code",
   "execution_count": 2,
   "metadata": {},
   "outputs": [
    {
     "data": {
      "text/plain": [
       "(211, 2)"
      ]
     },
     "execution_count": 2,
     "metadata": {},
     "output_type": "execute_result"
    }
   ],
   "source": [
    "df_zips = pd.read_csv(\"csvs/labeled_zips.csv\", index_col=0, usecols=[1,12,13], dtype={1:'str',12:'int',13:'str'})\n",
    "df_zips.shape"
   ]
  },
  {
   "cell_type": "markdown",
   "metadata": {},
   "source": [
    "## Feature Creation\n",
    "\n",
    "The new feature was the cluster data generated in Model 4\n"
   ]
  },
  {
   "cell_type": "code",
   "execution_count": 3,
   "metadata": {},
   "outputs": [
    {
     "data": {
      "text/html": [
       "<div>\n",
       "<style scoped>\n",
       "    .dataframe tbody tr th:only-of-type {\n",
       "        vertical-align: middle;\n",
       "    }\n",
       "\n",
       "    .dataframe tbody tr th {\n",
       "        vertical-align: top;\n",
       "    }\n",
       "\n",
       "    .dataframe thead th {\n",
       "        text-align: right;\n",
       "    }\n",
       "</style>\n",
       "<table border=\"1\" class=\"dataframe\">\n",
       "  <thead>\n",
       "    <tr style=\"text-align: right;\">\n",
       "      <th></th>\n",
       "      <th>Complaint Type</th>\n",
       "      <th>Zip</th>\n",
       "      <th>Date</th>\n",
       "    </tr>\n",
       "  </thead>\n",
       "  <tbody>\n",
       "    <tr>\n",
       "      <th>0</th>\n",
       "      <td>Noise - Residential</td>\n",
       "      <td>10023</td>\n",
       "      <td>2015-10-10</td>\n",
       "    </tr>\n",
       "    <tr>\n",
       "      <th>1</th>\n",
       "      <td>Noise - Residential</td>\n",
       "      <td>10023</td>\n",
       "      <td>2015-10-10</td>\n",
       "    </tr>\n",
       "    <tr>\n",
       "      <th>2</th>\n",
       "      <td>HEAT/HOT WATER</td>\n",
       "      <td>10023</td>\n",
       "      <td>2015-10-10</td>\n",
       "    </tr>\n",
       "    <tr>\n",
       "      <th>3</th>\n",
       "      <td>HEAT/HOT WATER</td>\n",
       "      <td>10023</td>\n",
       "      <td>2015-10-10</td>\n",
       "    </tr>\n",
       "    <tr>\n",
       "      <th>4</th>\n",
       "      <td>Noise - Residential</td>\n",
       "      <td>10023</td>\n",
       "      <td>2015-10-10</td>\n",
       "    </tr>\n",
       "  </tbody>\n",
       "</table>\n",
       "</div>"
      ],
      "text/plain": [
       "        Complaint Type    Zip        Date\n",
       "0  Noise - Residential  10023  2015-10-10\n",
       "1  Noise - Residential  10023  2015-10-10\n",
       "2       HEAT/HOT WATER  10023  2015-10-10\n",
       "3       HEAT/HOT WATER  10023  2015-10-10\n",
       "4  Noise - Residential  10023  2015-10-10"
      ]
     },
     "execution_count": 3,
     "metadata": {},
     "output_type": "execute_result"
    }
   ],
   "source": [
    "df_311zip = pd.read_csv(\"csvs/top_ten_w_zips.csv\", usecols=[3,5,6], dtype={0:'str',3:'str',5:'str',6:'str',})\n",
    "df_311zip.rename(columns={'Date Only':'Date', 'Incident Zip':'Zip'}, inplace=True)\n",
    "\n",
    "df_311zip.head()"
   ]
  },
  {
   "cell_type": "markdown",
   "metadata": {},
   "source": [
    "## Feature Extraction\n",
    "\n",
    "Build a pivot table of the ratio of types of calls for each zipcode within the given timeframe"
   ]
  },
  {
   "cell_type": "code",
   "execution_count": 4,
   "metadata": {},
   "outputs": [
    {
     "data": {
      "text/html": [
       "<div>\n",
       "<style scoped>\n",
       "    .dataframe tbody tr th:only-of-type {\n",
       "        vertical-align: middle;\n",
       "    }\n",
       "\n",
       "    .dataframe tbody tr th {\n",
       "        vertical-align: top;\n",
       "    }\n",
       "\n",
       "    .dataframe thead th {\n",
       "        text-align: right;\n",
       "    }\n",
       "</style>\n",
       "<table border=\"1\" class=\"dataframe\">\n",
       "  <thead>\n",
       "    <tr style=\"text-align: right;\">\n",
       "      <th></th>\n",
       "      <th>kmeans_label</th>\n",
       "      <th>kmeans_color</th>\n",
       "      <th>Blocked Driveway</th>\n",
       "      <th>HEAT/HOT WATER</th>\n",
       "      <th>Illegal Parking</th>\n",
       "      <th>Noise - Residential</th>\n",
       "      <th>Noise - Street/Sidewalk</th>\n",
       "      <th>Request Large Bulky Item Collection</th>\n",
       "      <th>Street Condition</th>\n",
       "      <th>Street Light Condition</th>\n",
       "      <th>UNSANITARY CONDITION</th>\n",
       "      <th>Water System</th>\n",
       "    </tr>\n",
       "    <tr>\n",
       "      <th>Zip</th>\n",
       "      <th></th>\n",
       "      <th></th>\n",
       "      <th></th>\n",
       "      <th></th>\n",
       "      <th></th>\n",
       "      <th></th>\n",
       "      <th></th>\n",
       "      <th></th>\n",
       "      <th></th>\n",
       "      <th></th>\n",
       "      <th></th>\n",
       "      <th></th>\n",
       "    </tr>\n",
       "  </thead>\n",
       "  <tbody>\n",
       "    <tr>\n",
       "      <th>10001</th>\n",
       "      <td>2</td>\n",
       "      <td>blue</td>\n",
       "      <td>163.0</td>\n",
       "      <td>301.0</td>\n",
       "      <td>735.0</td>\n",
       "      <td>818.0</td>\n",
       "      <td>313.0</td>\n",
       "      <td>374.0</td>\n",
       "      <td>525.0</td>\n",
       "      <td>11.0</td>\n",
       "      <td>117.0</td>\n",
       "      <td>249.0</td>\n",
       "    </tr>\n",
       "    <tr>\n",
       "      <th>10002</th>\n",
       "      <td>0</td>\n",
       "      <td>green</td>\n",
       "      <td>136.0</td>\n",
       "      <td>1992.0</td>\n",
       "      <td>1653.0</td>\n",
       "      <td>2215.0</td>\n",
       "      <td>930.0</td>\n",
       "      <td>785.0</td>\n",
       "      <td>536.0</td>\n",
       "      <td>258.0</td>\n",
       "      <td>391.0</td>\n",
       "      <td>355.0</td>\n",
       "    </tr>\n",
       "    <tr>\n",
       "      <th>10003</th>\n",
       "      <td>0</td>\n",
       "      <td>green</td>\n",
       "      <td>51.0</td>\n",
       "      <td>1047.0</td>\n",
       "      <td>938.0</td>\n",
       "      <td>1232.0</td>\n",
       "      <td>733.0</td>\n",
       "      <td>1213.0</td>\n",
       "      <td>716.0</td>\n",
       "      <td>20.0</td>\n",
       "      <td>286.0</td>\n",
       "      <td>477.0</td>\n",
       "    </tr>\n",
       "    <tr>\n",
       "      <th>10004</th>\n",
       "      <td>2</td>\n",
       "      <td>blue</td>\n",
       "      <td>8.0</td>\n",
       "      <td>11.0</td>\n",
       "      <td>191.0</td>\n",
       "      <td>22.0</td>\n",
       "      <td>33.0</td>\n",
       "      <td>30.0</td>\n",
       "      <td>162.0</td>\n",
       "      <td>54.0</td>\n",
       "      <td>4.0</td>\n",
       "      <td>43.0</td>\n",
       "    </tr>\n",
       "    <tr>\n",
       "      <th>10005</th>\n",
       "      <td>2</td>\n",
       "      <td>blue</td>\n",
       "      <td>9.0</td>\n",
       "      <td>21.0</td>\n",
       "      <td>172.0</td>\n",
       "      <td>70.0</td>\n",
       "      <td>103.0</td>\n",
       "      <td>71.0</td>\n",
       "      <td>84.0</td>\n",
       "      <td>30.0</td>\n",
       "      <td>9.0</td>\n",
       "      <td>27.0</td>\n",
       "    </tr>\n",
       "  </tbody>\n",
       "</table>\n",
       "</div>"
      ],
      "text/plain": [
       "       kmeans_label kmeans_color  Blocked Driveway  HEAT/HOT WATER  \\\n",
       "Zip                                                                  \n",
       "10001             2         blue             163.0           301.0   \n",
       "10002             0        green             136.0          1992.0   \n",
       "10003             0        green              51.0          1047.0   \n",
       "10004             2         blue               8.0            11.0   \n",
       "10005             2         blue               9.0            21.0   \n",
       "\n",
       "       Illegal Parking  Noise - Residential  Noise - Street/Sidewalk  \\\n",
       "Zip                                                                    \n",
       "10001            735.0                818.0                    313.0   \n",
       "10002           1653.0               2215.0                    930.0   \n",
       "10003            938.0               1232.0                    733.0   \n",
       "10004            191.0                 22.0                     33.0   \n",
       "10005            172.0                 70.0                    103.0   \n",
       "\n",
       "       Request Large Bulky Item Collection  Street Condition  \\\n",
       "Zip                                                            \n",
       "10001                                374.0             525.0   \n",
       "10002                                785.0             536.0   \n",
       "10003                               1213.0             716.0   \n",
       "10004                                 30.0             162.0   \n",
       "10005                                 71.0              84.0   \n",
       "\n",
       "       Street Light Condition  UNSANITARY CONDITION  Water System  \n",
       "Zip                                                                \n",
       "10001                    11.0                 117.0         249.0  \n",
       "10002                   258.0                 391.0         355.0  \n",
       "10003                    20.0                 286.0         477.0  \n",
       "10004                    54.0                   4.0          43.0  \n",
       "10005                    30.0                   9.0          27.0  "
      ]
     },
     "execution_count": 4,
     "metadata": {},
     "output_type": "execute_result"
    }
   ],
   "source": [
    "def getFeatureVector(normalize=True, minDate = '2018-05-28', maxDate='2019-05-28'):\n",
    "    df = df_311zip#[df_311zip['Incident Zip'] == str(azip)]\n",
    "    df = df[df['Date'] > minDate]\n",
    "    df = df[df['Date'] <= maxDate]\n",
    "    df['Count'] = 1\n",
    "    n = df.shape[0]\n",
    "    n = df.groupby('Zip').count()\n",
    "    pt = pd.pivot_table(df,  index=['Zip'], columns=['Complaint Type'],\n",
    "                  aggfunc=np.sum, fill_value=0)\n",
    "\n",
    "    if (normalize):\n",
    "        pt = pt.div(n, level=0)\n",
    "    else:\n",
    "        pt = pt.div(1.0, level=0)\n",
    "        \n",
    "    pt.Count.to_csv(\"temp.csv\")\n",
    "    df_feat2 = pd.read_csv(\"temp.csv\", index_col=0)\n",
    "    return df_zips.join(df_feat2, how=\"inner\")\n",
    "    \n",
    "df_learn = getFeatureVector(False)\n",
    "df_learn.head()"
   ]
  },
  {
   "cell_type": "code",
   "execution_count": 5,
   "metadata": {},
   "outputs": [],
   "source": [
    "def scaleData(data):\n",
    "    #normalize features\n",
    "    scaler = MinMaxScaler(feature_range=(0, 1))\n",
    "    return scaler.fit_transform(data)"
   ]
  },
  {
   "cell_type": "code",
   "execution_count": 6,
   "metadata": {},
   "outputs": [],
   "source": [
    "feature_list = ['Blocked Driveway', 'HEAT/HOT WATER', 'Illegal Parking', 'Noise - Residential', \n",
    "                'Noise - Street/Sidewalk', 'Request Large Bulky Item Collection', 'Street Condition', \n",
    "                'Street Light Condition', 'UNSANITARY CONDITION', 'Water System']\n",
    "\n",
    "#feature_list = ['HEAT/HOT WATER', 'Noise - Street/Sidewalk', 'Water System']\n",
    "\n",
    "#feature_list = ['Blocked Driveway', 'HEAT/HOT WATER', 'Illegal Parking', 'Noise - Residential', \n",
    "#                'Noise - Street/Sidewalk', 'Street Condition', \n",
    "#                'Street Light Condition', 'UNSANITARY CONDITION', 'Water System']\n",
    "\n"
   ]
  },
  {
   "cell_type": "code",
   "execution_count": 26,
   "metadata": {},
   "outputs": [
    {
     "name": "stdout",
     "output_type": "stream",
     "text": [
      "Train set: (211, 10) (211,)\n",
      "Test set: (211, 10) (211,)\n"
     ]
    }
   ],
   "source": [
    "from sklearn.neural_network import MLPClassifier\n",
    "\n",
    "normalize = True\n",
    "df_learn = getFeatureVector(normalize,minDate = '2018-05-28', maxDate='2019-05-28')\n",
    "\n",
    "X_train = np.asarray(df_learn[feature_list])\n",
    "y_train = np.asarray(df_learn[['kmeans_label']]).ravel()\n",
    "X_train = scaleData(X_train)\n",
    "\n",
    "df_learn = getFeatureVector(normalize, minDate = '2018-05-28', maxDate='2019-05-28')\n",
    "X_test = np.asarray(df_learn[feature_list])\n",
    "y_test = np.asarray(df_learn[['kmeans_label']]).ravel()\n",
    "X_test = scaleData(X_test)\n",
    "\n",
    "#X_train, X_test, y_train, y_test = train_test_split( X, y, test_size=0.2, random_state=4)\n",
    "print ('Train set:', X_train.shape,  y_train.shape)\n",
    "print ('Test set:', X_test.shape,  y_test.shape)\n",
    "\n"
   ]
  },
  {
   "cell_type": "code",
   "execution_count": 27,
   "metadata": {},
   "outputs": [],
   "source": [
    "#X = np.asarray(df_learn[feature_list])\n",
    "#X = scaleData(X)\n",
    "#y = np.asarray(df_learn[['kmeans_label']]).ravel()#\n",
    "#\n",
    "#X_train, X_test, y_train, y_test = train_test_split( X, y, test_size=0.2, random_state=4)\n",
    "#print ('Train set:', X_train.shape,  y_train.shape)\n",
    "#print ('Test set:', X_test.shape,  y_test.shape)\n",
    "\n"
   ]
  },
  {
   "cell_type": "code",
   "execution_count": 28,
   "metadata": {},
   "outputs": [],
   "source": [
    "#X_train[:5]"
   ]
  },
  {
   "cell_type": "code",
   "execution_count": null,
   "metadata": {},
   "outputs": [],
   "source": []
  },
  {
   "cell_type": "markdown",
   "metadata": {},
   "source": [
    "### about MLP\n",
    "\n",
    "MLP trains on two arrays: array X of size (n_samples, n_features), which holds the training samples represented as floating point feature vectors; and array y of size (n_samples,), which holds the target values (class labels) for the training sample"
   ]
  },
  {
   "cell_type": "code",
   "execution_count": 32,
   "metadata": {},
   "outputs": [],
   "source": [
    "clf = MLPClassifier(solver='lbfgs', alpha=1e-5, hidden_layer_sizes=(11), random_state=1)"
   ]
  },
  {
   "cell_type": "code",
   "execution_count": 33,
   "metadata": {},
   "outputs": [
    {
     "data": {
      "text/plain": [
       "MLPClassifier(activation='relu', alpha=1e-05, batch_size='auto', beta_1=0.9,\n",
       "       beta_2=0.999, early_stopping=False, epsilon=1e-08,\n",
       "       hidden_layer_sizes=11, learning_rate='constant',\n",
       "       learning_rate_init=0.001, max_iter=200, momentum=0.9,\n",
       "       n_iter_no_change=10, nesterovs_momentum=True, power_t=0.5,\n",
       "       random_state=1, shuffle=True, solver='lbfgs', tol=0.0001,\n",
       "       validation_fraction=0.1, verbose=False, warm_start=False)"
      ]
     },
     "execution_count": 33,
     "metadata": {},
     "output_type": "execute_result"
    }
   ],
   "source": [
    "clf.fit(X_train, y_train) "
   ]
  },
  {
   "cell_type": "code",
   "execution_count": 34,
   "metadata": {},
   "outputs": [
    {
     "data": {
      "text/plain": [
       "{'ME': 0.004739336492890996,\n",
       " 'R2': 0.9968201820483453,\n",
       " 'MSE': 0.004739336492890996}"
      ]
     },
     "execution_count": 34,
     "metadata": {},
     "output_type": "execute_result"
    }
   ],
   "source": [
    "#X_test = scaleData(X_test)\n",
    "\n",
    "yhat = clf.predict(X_test)\n",
    "{\"ME\":mean_absolute_error(y_test, yhat), \"R2\":r2_score(y_test, yhat), \"MSE\":mean_squared_error(y_test, yhat)}"
   ]
  },
  {
   "cell_type": "code",
   "execution_count": 35,
   "metadata": {},
   "outputs": [
    {
     "data": {
      "text/plain": [
       "{'ME': 0.11428571428571428,\n",
       " 'R2': 0.8346691020170369,\n",
       " 'MSE': 0.23809523809523808}"
      ]
     },
     "execution_count": 35,
     "metadata": {},
     "output_type": "execute_result"
    }
   ],
   "source": [
    "df_learn = getFeatureVector(normalize, minDate = '2018-04-28', maxDate='2019-04-28')\n",
    "X_test = np.asarray(df_learn[feature_list])\n",
    "y_test = np.asarray(df_learn[['kmeans_label']]).ravel()\n",
    "X_test = scaleData(X_test)\n",
    "\n",
    "yhat = clf.predict(X_test)\n",
    "{\"ME\":mean_absolute_error(y_test, yhat), \"R2\":r2_score(y_test, yhat), \"MSE\":mean_squared_error(y_test, yhat)}"
   ]
  },
  {
   "cell_type": "code",
   "execution_count": 35,
   "metadata": {},
   "outputs": [
    {
     "data": {
      "text/plain": [
       "{'ME': 0.11428571428571428,\n",
       " 'R2': 0.8346691020170369,\n",
       " 'MSE': 0.23809523809523808}"
      ]
     },
     "execution_count": 35,
     "metadata": {},
     "output_type": "execute_result"
    }
   ],
   "source": [
    "df_learn = getFeatureVector(normalize, minDate = '2018-04-28', maxDate='2019-04-28')\n",
    "X_test = np.asarray(df_learn[feature_list])\n",
    "y_test = np.asarray(df_learn[['kmeans_label']]).ravel()\n",
    "X_test = scaleData(X_test)\n",
    "\n",
    "yhat = clf.predict(X_test)\n",
    "{\"ME\":mean_absolute_error(y_test, yhat), \"R2\":r2_score(y_test, yhat), \"MSE\":mean_squared_error(y_test, yhat)}"
   ]
  },
  {
   "cell_type": "code",
   "execution_count": null,
   "metadata": {},
   "outputs": [],
   "source": []
  },
  {
   "cell_type": "code",
   "execution_count": null,
   "metadata": {},
   "outputs": [],
   "source": []
  },
  {
   "cell_type": "code",
   "execution_count": null,
   "metadata": {},
   "outputs": [],
   "source": []
  }
 ],
 "metadata": {
  "kernelspec": {
   "display_name": "Python 3",
   "language": "python",
   "name": "python3"
  },
  "language_info": {
   "codemirror_mode": {
    "name": "ipython",
    "version": 3
   },
   "file_extension": ".py",
   "mimetype": "text/x-python",
   "name": "python",
   "nbconvert_exporter": "python",
   "pygments_lexer": "ipython3",
   "version": "3.7.3"
  }
 },
 "nbformat": 4,
 "nbformat_minor": 2
}

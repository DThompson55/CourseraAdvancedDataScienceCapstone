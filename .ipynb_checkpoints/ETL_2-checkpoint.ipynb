{
 "cells": [
  {
   "cell_type": "markdown",
   "metadata": {},
   "source": [
    "# ETL 1 - Creates Features, Cleans Data\n",
    "\n",
    "This ETL module combines Zipcode informtion, including the cluster label that was produced in Model 4, with weather data and 311 call data."
   ]
  },
  {
   "cell_type": "code",
   "execution_count": 1,
   "metadata": {},
   "outputs": [
    {
     "name": "stdout",
     "output_type": "stream",
     "text": [
      "Libraries imported.\n"
     ]
    }
   ],
   "source": [
    "import pandas as pd\n",
    "import numpy as np\n",
    "print('Libraries imported.')\n"
   ]
  },
  {
   "cell_type": "markdown",
   "metadata": {},
   "source": [
    "## Zipcodes\n",
    "\n",
    "The zipcode data includes the cluster data that was generated in Model 4\n",
    "\n",
    "### Feature Creation\n",
    "\n",
    "The new feature was the cluster data generated in Model 4\n"
   ]
  },
  {
   "cell_type": "code",
   "execution_count": 202,
   "metadata": {},
   "outputs": [
    {
     "data": {
      "text/html": [
       "<div>\n",
       "<style scoped>\n",
       "    .dataframe tbody tr th:only-of-type {\n",
       "        vertical-align: middle;\n",
       "    }\n",
       "\n",
       "    .dataframe tbody tr th {\n",
       "        vertical-align: top;\n",
       "    }\n",
       "\n",
       "    .dataframe thead th {\n",
       "        text-align: right;\n",
       "    }\n",
       "</style>\n",
       "<table border=\"1\" class=\"dataframe\">\n",
       "  <thead>\n",
       "    <tr style=\"text-align: right;\">\n",
       "      <th></th>\n",
       "      <th>kmeans_label</th>\n",
       "    </tr>\n",
       "    <tr>\n",
       "      <th>Zip</th>\n",
       "      <th></th>\n",
       "    </tr>\n",
       "  </thead>\n",
       "  <tbody>\n",
       "    <tr>\n",
       "      <th>10001</th>\n",
       "      <td>2</td>\n",
       "    </tr>\n",
       "    <tr>\n",
       "      <th>10002</th>\n",
       "      <td>0</td>\n",
       "    </tr>\n",
       "    <tr>\n",
       "      <th>10003</th>\n",
       "      <td>0</td>\n",
       "    </tr>\n",
       "    <tr>\n",
       "      <th>10004</th>\n",
       "      <td>2</td>\n",
       "    </tr>\n",
       "    <tr>\n",
       "      <th>10005</th>\n",
       "      <td>2</td>\n",
       "    </tr>\n",
       "  </tbody>\n",
       "</table>\n",
       "</div>"
      ],
      "text/plain": [
       "       kmeans_label\n",
       "Zip                \n",
       "10001             2\n",
       "10002             0\n",
       "10003             0\n",
       "10004             2\n",
       "10005             2"
      ]
     },
     "execution_count": 202,
     "metadata": {},
     "output_type": "execute_result"
    }
   ],
   "source": [
    "df_zips = pd.read_csv(\"csvs/labeled_zips.csv\", index_col = 0, usecols=[ 1,12], dtype={0:'str', 1:'str', 12:'int'})\n",
    "\n",
    "df_zips.head()"
   ]
  },
  {
   "cell_type": "markdown",
   "metadata": {},
   "source": [
    "## Top Ten data\n",
    "\n",
    "This has the top ten complaints registered over the past five years, includes zipcode and date."
   ]
  },
  {
   "cell_type": "code",
   "execution_count": 103,
   "metadata": {},
   "outputs": [
    {
     "name": "stderr",
     "output_type": "stream",
     "text": [
      "/Users/dtt/anaconda3/lib/python3.7/site-packages/numpy/lib/arraysetops.py:569: FutureWarning: elementwise comparison failed; returning scalar instead, but in the future will perform elementwise comparison\n",
      "  mask |= (ar1 == a)\n"
     ]
    },
    {
     "data": {
      "text/html": [
       "<div>\n",
       "<style scoped>\n",
       "    .dataframe tbody tr th:only-of-type {\n",
       "        vertical-align: middle;\n",
       "    }\n",
       "\n",
       "    .dataframe tbody tr th {\n",
       "        vertical-align: top;\n",
       "    }\n",
       "\n",
       "    .dataframe thead th {\n",
       "        text-align: right;\n",
       "    }\n",
       "</style>\n",
       "<table border=\"1\" class=\"dataframe\">\n",
       "  <thead>\n",
       "    <tr style=\"text-align: right;\">\n",
       "      <th></th>\n",
       "      <th>Complaint Type</th>\n",
       "      <th>Incident Zip</th>\n",
       "      <th>Date Only</th>\n",
       "    </tr>\n",
       "    <tr>\n",
       "      <th>Unique Key</th>\n",
       "      <th></th>\n",
       "      <th></th>\n",
       "      <th></th>\n",
       "    </tr>\n",
       "  </thead>\n",
       "  <tbody>\n",
       "    <tr>\n",
       "      <th>31723508</th>\n",
       "      <td>Noise - Residential</td>\n",
       "      <td>10023</td>\n",
       "      <td>2015-10-10</td>\n",
       "    </tr>\n",
       "    <tr>\n",
       "      <th>31724314</th>\n",
       "      <td>Noise - Residential</td>\n",
       "      <td>10023</td>\n",
       "      <td>2015-10-10</td>\n",
       "    </tr>\n",
       "    <tr>\n",
       "      <th>31724946</th>\n",
       "      <td>HEAT/HOT WATER</td>\n",
       "      <td>10023</td>\n",
       "      <td>2015-10-10</td>\n",
       "    </tr>\n",
       "    <tr>\n",
       "      <th>31725751</th>\n",
       "      <td>HEAT/HOT WATER</td>\n",
       "      <td>10023</td>\n",
       "      <td>2015-10-10</td>\n",
       "    </tr>\n",
       "    <tr>\n",
       "      <th>31726082</th>\n",
       "      <td>Noise - Residential</td>\n",
       "      <td>10023</td>\n",
       "      <td>2015-10-10</td>\n",
       "    </tr>\n",
       "  </tbody>\n",
       "</table>\n",
       "</div>"
      ],
      "text/plain": [
       "                 Complaint Type  Incident Zip   Date Only\n",
       "Unique Key                                               \n",
       "31723508    Noise - Residential         10023  2015-10-10\n",
       "31724314    Noise - Residential         10023  2015-10-10\n",
       "31724946         HEAT/HOT WATER         10023  2015-10-10\n",
       "31725751         HEAT/HOT WATER         10023  2015-10-10\n",
       "31726082    Noise - Residential         10023  2015-10-10"
      ]
     },
     "execution_count": 103,
     "metadata": {},
     "output_type": "execute_result"
    }
   ],
   "source": [
    "df_311 = pd.read_csv(\"csvs/top_ten_w_zips.csv\", index_col=0, usecols=[0,3,5,6], dtype={0:'int64', 3:'str', 5:'int64', 6:'str'})#, parse_dates=['Date Only'])\n",
    "\n",
    "df_311.head()\n"
   ]
  },
  {
   "cell_type": "markdown",
   "metadata": {},
   "source": [
    "## Weather Data\n",
    "\n",
    "Previous analysis showed that all we really need for this analysis is the average daily temperature"
   ]
  },
  {
   "cell_type": "code",
   "execution_count": 104,
   "metadata": {},
   "outputs": [
    {
     "data": {
      "text/html": [
       "<div>\n",
       "<style scoped>\n",
       "    .dataframe tbody tr th:only-of-type {\n",
       "        vertical-align: middle;\n",
       "    }\n",
       "\n",
       "    .dataframe tbody tr th {\n",
       "        vertical-align: top;\n",
       "    }\n",
       "\n",
       "    .dataframe thead th {\n",
       "        text-align: right;\n",
       "    }\n",
       "</style>\n",
       "<table border=\"1\" class=\"dataframe\">\n",
       "  <thead>\n",
       "    <tr style=\"text-align: right;\">\n",
       "      <th></th>\n",
       "      <th>DailyAverageDryBulbTemperature</th>\n",
       "    </tr>\n",
       "    <tr>\n",
       "      <th>Date Only</th>\n",
       "      <th></th>\n",
       "    </tr>\n",
       "  </thead>\n",
       "  <tbody>\n",
       "    <tr>\n",
       "      <th>2015-01-01</th>\n",
       "      <td>33</td>\n",
       "    </tr>\n",
       "    <tr>\n",
       "      <th>2015-01-02</th>\n",
       "      <td>39</td>\n",
       "    </tr>\n",
       "    <tr>\n",
       "      <th>2015-01-03</th>\n",
       "      <td>38</td>\n",
       "    </tr>\n",
       "    <tr>\n",
       "      <th>2015-01-04</th>\n",
       "      <td>49</td>\n",
       "    </tr>\n",
       "    <tr>\n",
       "      <th>2015-01-05</th>\n",
       "      <td>35</td>\n",
       "    </tr>\n",
       "  </tbody>\n",
       "</table>\n",
       "</div>"
      ],
      "text/plain": [
       "            DailyAverageDryBulbTemperature\n",
       "Date Only                                 \n",
       "2015-01-01                              33\n",
       "2015-01-02                              39\n",
       "2015-01-03                              38\n",
       "2015-01-04                              49\n",
       "2015-01-05                              35"
      ]
     },
     "execution_count": 104,
     "metadata": {},
     "output_type": "execute_result"
    }
   ],
   "source": [
    "df_weather = pd.read_csv(\"csvs/daily_weather_nyc.csv\",  usecols=[0,1,4], dtype={0:'str', 1:'str', 2:'int'})\n",
    "df_weather[\"Date Only\"] = df_weather[\"DATE\"].apply(lambda x: x[:10])\n",
    "df_weather.drop(columns=['DATE','Unnamed: 0'], inplace=True)\n",
    "df_weather.set_index(\"Date Only\", inplace=True )\n",
    "df_weather.head()"
   ]
  },
  {
   "cell_type": "markdown",
   "metadata": {},
   "source": [
    "## Join Data\n",
    "\n",
    "So now we're going do an inner join on the 311 data with the zipcode data, and then with the weather data. This provides us with a smaller data set. The zipcode data only contains those zipcodes in NYC, so the join will remove a lot of 311 calls that have unwanted or invalid zipcodes.\n",
    "\n",
    "We finish by contatentating date with temperature, and also concatenating zip code with the cluster label. This will preserve these data after when we do the pivot table."
   ]
  },
  {
   "cell_type": "code",
   "execution_count": 203,
   "metadata": {},
   "outputs": [],
   "source": [
    "#\n",
    "df_j = df_311.join(df_zips, on=\"Incident Zip\", how=\"inner\")\n",
    "df_j = df_j.join(df_weather, on=\"Date Only\", how=\"inner\")\n",
    "#df_j['WE'] = (pd.to_datetime(df_311['Date Only']).dt.dayofweek).isin([5,6])\n",
    "#df_j['DOW'] = (pd.to_datetime(df_311['Date Only']).dt.dayofweek)\n",
    "#df_j['Complaint ID'] = df_j['Complaint Type']\n",
    "#df_j['Complaint ID'] = df_j['Complaint ID'].map({'Blocked Driveway': 1,'HEAT/HOT WATER': 2,'Illegal Parking': 3,'Noise - Residential': 4,'Noise - Street/Sidewalk': 5,'Street Condition': 6,'Street Light Condition': 7,'UNSANITARY CONDITION': 8,'Water System': 9,'Request Large Bulky Item Collection': 10})\n",
    "df_j['Date_Temp'] = df_j['Date Only'].astype(str)+'_'+df_j['DailyAverageDryBulbTemperature'].astype(str)\n",
    "df_j['Zip_Group'] = df_j['Incident Zip'].astype(str)+'_'+df_j['kmeans_label'].astype(str)\n",
    "\n",
    "\n"
   ]
  },
  {
   "cell_type": "markdown",
   "metadata": {},
   "source": [
    "## Pivot Table\n",
    "\n",
    "Create a pivot table showing the number of each type of call for each date and each zipcode"
   ]
  },
  {
   "cell_type": "code",
   "execution_count": 204,
   "metadata": {},
   "outputs": [],
   "source": [
    "df_b = pd.DataFrame(df_j)\n",
    "df_b.drop(columns=['kmeans_label','Date Only','Incident Zip','DailyAverageDryBulbTemperature'], inplace=True)\n",
    "df_b['X'] = 1\n",
    "\n",
    "pt = pd.pivot_table(df_b,  index=['Date_Temp','Zip_Group'], columns=['Complaint Type'],\n",
    "                      aggfunc=np.sum, fill_value=0)"
   ]
  },
  {
   "cell_type": "code",
   "execution_count": 205,
   "metadata": {},
   "outputs": [
    {
     "data": {
      "text/html": [
       "<div>\n",
       "<style scoped>\n",
       "    .dataframe tbody tr th:only-of-type {\n",
       "        vertical-align: middle;\n",
       "    }\n",
       "\n",
       "    .dataframe tbody tr th {\n",
       "        vertical-align: top;\n",
       "    }\n",
       "\n",
       "    .dataframe thead tr th {\n",
       "        text-align: left;\n",
       "    }\n",
       "\n",
       "    .dataframe thead tr:last-of-type th {\n",
       "        text-align: right;\n",
       "    }\n",
       "</style>\n",
       "<table border=\"1\" class=\"dataframe\">\n",
       "  <thead>\n",
       "    <tr>\n",
       "      <th></th>\n",
       "      <th></th>\n",
       "      <th colspan=\"10\" halign=\"left\">X</th>\n",
       "    </tr>\n",
       "    <tr>\n",
       "      <th></th>\n",
       "      <th>Complaint Type</th>\n",
       "      <th>Blocked Driveway</th>\n",
       "      <th>HEAT/HOT WATER</th>\n",
       "      <th>Illegal Parking</th>\n",
       "      <th>Noise - Residential</th>\n",
       "      <th>Noise - Street/Sidewalk</th>\n",
       "      <th>Request Large Bulky Item Collection</th>\n",
       "      <th>Street Condition</th>\n",
       "      <th>Street Light Condition</th>\n",
       "      <th>UNSANITARY CONDITION</th>\n",
       "      <th>Water System</th>\n",
       "    </tr>\n",
       "    <tr>\n",
       "      <th>Date_Temp</th>\n",
       "      <th>Zip_Group</th>\n",
       "      <th></th>\n",
       "      <th></th>\n",
       "      <th></th>\n",
       "      <th></th>\n",
       "      <th></th>\n",
       "      <th></th>\n",
       "      <th></th>\n",
       "      <th></th>\n",
       "      <th></th>\n",
       "      <th></th>\n",
       "    </tr>\n",
       "  </thead>\n",
       "  <tbody>\n",
       "    <tr>\n",
       "      <th rowspan=\"5\" valign=\"top\">2015-01-01_33</th>\n",
       "      <th>10001_2</th>\n",
       "      <td>0</td>\n",
       "      <td>2</td>\n",
       "      <td>0</td>\n",
       "      <td>2</td>\n",
       "      <td>0</td>\n",
       "      <td>0</td>\n",
       "      <td>0</td>\n",
       "      <td>0</td>\n",
       "      <td>0</td>\n",
       "      <td>1</td>\n",
       "    </tr>\n",
       "    <tr>\n",
       "      <th>10002_0</th>\n",
       "      <td>0</td>\n",
       "      <td>14</td>\n",
       "      <td>1</td>\n",
       "      <td>14</td>\n",
       "      <td>3</td>\n",
       "      <td>0</td>\n",
       "      <td>0</td>\n",
       "      <td>0</td>\n",
       "      <td>0</td>\n",
       "      <td>0</td>\n",
       "    </tr>\n",
       "    <tr>\n",
       "      <th>10003_0</th>\n",
       "      <td>0</td>\n",
       "      <td>6</td>\n",
       "      <td>0</td>\n",
       "      <td>10</td>\n",
       "      <td>0</td>\n",
       "      <td>0</td>\n",
       "      <td>2</td>\n",
       "      <td>0</td>\n",
       "      <td>0</td>\n",
       "      <td>0</td>\n",
       "    </tr>\n",
       "    <tr>\n",
       "      <th>10006_2</th>\n",
       "      <td>0</td>\n",
       "      <td>0</td>\n",
       "      <td>0</td>\n",
       "      <td>1</td>\n",
       "      <td>0</td>\n",
       "      <td>0</td>\n",
       "      <td>0</td>\n",
       "      <td>0</td>\n",
       "      <td>0</td>\n",
       "      <td>0</td>\n",
       "    </tr>\n",
       "    <tr>\n",
       "      <th>10009_0</th>\n",
       "      <td>0</td>\n",
       "      <td>5</td>\n",
       "      <td>0</td>\n",
       "      <td>8</td>\n",
       "      <td>0</td>\n",
       "      <td>0</td>\n",
       "      <td>1</td>\n",
       "      <td>0</td>\n",
       "      <td>0</td>\n",
       "      <td>1</td>\n",
       "    </tr>\n",
       "  </tbody>\n",
       "</table>\n",
       "</div>"
      ],
      "text/plain": [
       "                                       X                                 \\\n",
       "Complaint Type          Blocked Driveway HEAT/HOT WATER Illegal Parking   \n",
       "Date_Temp     Zip_Group                                                   \n",
       "2015-01-01_33 10001_2                  0              2               0   \n",
       "              10002_0                  0             14               1   \n",
       "              10003_0                  0              6               0   \n",
       "              10006_2                  0              0               0   \n",
       "              10009_0                  0              5               0   \n",
       "\n",
       "                                                                     \\\n",
       "Complaint Type          Noise - Residential Noise - Street/Sidewalk   \n",
       "Date_Temp     Zip_Group                                               \n",
       "2015-01-01_33 10001_2                     2                       0   \n",
       "              10002_0                    14                       3   \n",
       "              10003_0                    10                       0   \n",
       "              10006_2                     1                       0   \n",
       "              10009_0                     8                       0   \n",
       "\n",
       "                                                                              \\\n",
       "Complaint Type          Request Large Bulky Item Collection Street Condition   \n",
       "Date_Temp     Zip_Group                                                        \n",
       "2015-01-01_33 10001_2                                     0                0   \n",
       "              10002_0                                     0                0   \n",
       "              10003_0                                     0                2   \n",
       "              10006_2                                     0                0   \n",
       "              10009_0                                     0                1   \n",
       "\n",
       "                                                                     \\\n",
       "Complaint Type          Street Light Condition UNSANITARY CONDITION   \n",
       "Date_Temp     Zip_Group                                               \n",
       "2015-01-01_33 10001_2                        0                    0   \n",
       "              10002_0                        0                    0   \n",
       "              10003_0                        0                    0   \n",
       "              10006_2                        0                    0   \n",
       "              10009_0                        0                    0   \n",
       "\n",
       "                                      \n",
       "Complaint Type          Water System  \n",
       "Date_Temp     Zip_Group               \n",
       "2015-01-01_33 10001_2              1  \n",
       "              10002_0              0  \n",
       "              10003_0              0  \n",
       "              10006_2              0  \n",
       "              10009_0              1  "
      ]
     },
     "execution_count": 205,
     "metadata": {},
     "output_type": "execute_result"
    }
   ],
   "source": [
    "pt.head()"
   ]
  },
  {
   "cell_type": "markdown",
   "metadata": {},
   "source": [
    "## Pivot Table Save\n",
    "\n",
    "Save the Pivot Table as we are done"
   ]
  },
  {
   "cell_type": "code",
   "execution_count": 201,
   "metadata": {},
   "outputs": [],
   "source": [
    "pt.to_csv(\"csvs/date_temp_zip_311.csv\")"
   ]
  },
  {
   "cell_type": "code",
   "execution_count": null,
   "metadata": {},
   "outputs": [],
   "source": []
  }
 ],
 "metadata": {
  "kernelspec": {
   "display_name": "Python 3",
   "language": "python",
   "name": "python3"
  },
  "language_info": {
   "codemirror_mode": {
    "name": "ipython",
    "version": 3
   },
   "file_extension": ".py",
   "mimetype": "text/x-python",
   "name": "python",
   "nbconvert_exporter": "python",
   "pygments_lexer": "ipython3",
   "version": "3.7.3"
  }
 },
 "nbformat": 4,
 "nbformat_minor": 2
}

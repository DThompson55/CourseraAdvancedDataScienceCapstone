{
 "cells": [
  {
   "cell_type": "markdown",
   "metadata": {},
   "source": [
    "# 311 Calls\n",
    "This notebook reads the original 311 file of 20 million records and produces a much smaller 10 million row file \n",
    "with just the columns we need to do our analysis.\n",
    "\n",
    "- Inputs: 311_Service_Requests_from_2010_to_Present.csv\n",
    "- Produces: short_311.csv"
   ]
  },
  {
   "cell_type": "code",
   "execution_count": 1,
   "metadata": {},
   "outputs": [],
   "source": [
    "import pandas as pd\n",
    "import numpy as np"
   ]
  },
  {
   "cell_type": "code",
   "execution_count": 2,
   "metadata": {},
   "outputs": [
    {
     "name": "stderr",
     "output_type": "stream",
     "text": [
      "/Users/dtt/anaconda3/lib/python3.7/site-packages/numpy/lib/arraysetops.py:569: FutureWarning: elementwise comparison failed; returning scalar instead, but in the future will perform elementwise comparison\n",
      "  mask |= (ar1 == a)\n"
     ]
    }
   ],
   "source": [
    "df_311 = pd.read_csv(\"csvs/311_Service_Requests_from_2010_to_Present.csv\", index_col=0, usecols=[\"Unique Key\",\"Created Date\",\"Agency\", \"Agency Name\",\"Complaint Type\",\"Descriptor\",\"Incident Zip\"], parse_dates=[1], dtype={\"Incident Zip\": 'str'})\n"
   ]
  },
  {
   "cell_type": "code",
   "execution_count": 3,
   "metadata": {},
   "outputs": [],
   "source": [
    "df_311 = df_311[df_311[\"Created Date\"] >= '2015-1-1']"
   ]
  },
  {
   "cell_type": "code",
   "execution_count": 4,
   "metadata": {},
   "outputs": [],
   "source": [
    "df_311.to_csv(\"csvs/short_311.csv\")"
   ]
  },
  {
   "cell_type": "code",
   "execution_count": 5,
   "metadata": {},
   "outputs": [
    {
     "data": {
      "text/plain": [
       "(10972121, 6)"
      ]
     },
     "execution_count": 5,
     "metadata": {},
     "output_type": "execute_result"
    }
   ],
   "source": [
    "df_311.shape"
   ]
  },
  {
   "cell_type": "code",
   "execution_count": null,
   "metadata": {},
   "outputs": [],
   "source": [
    "df_311_short = pd.read_csv(\"csvs/short_311.csv\", index_col=0,        \n",
    "                           usecols=[\"Unique Key\",\"Created Date\",\"Agency\", \"Agency Name\",\"Complaint Type\",\"Descriptor\",\"Incident Zip\"], \n",
    "                           dtype={\"Incident Zip\": 'str'})"
   ]
  },
  {
   "cell_type": "code",
   "execution_count": null,
   "metadata": {},
   "outputs": [],
   "source": [
    "df_311_sampled = df_311_short.sample(frac = 0.001)\n",
    "df_311_sampled.to_csv(\"csvs/311_sampled.csv\")\n",
    "df_311_short.to_csv(\"csvs/311_ussampled.csv\")"
   ]
  }
 ],
 "metadata": {
  "kernelspec": {
   "display_name": "Python 3",
   "language": "python",
   "name": "python3"
  },
  "language_info": {
   "codemirror_mode": {
    "name": "ipython",
    "version": 3
   },
   "file_extension": ".py",
   "mimetype": "text/x-python",
   "name": "python",
   "nbconvert_exporter": "python",
   "pygments_lexer": "ipython3",
   "version": "3.7.3"
  }
 },
 "nbformat": 4,
 "nbformat_minor": 2
}

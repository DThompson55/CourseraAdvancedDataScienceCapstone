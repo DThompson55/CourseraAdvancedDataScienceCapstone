{
 "cells": [
  {
   "cell_type": "code",
   "execution_count": 1,
   "metadata": {},
   "outputs": [],
   "source": [
    "import pandas as pd\n",
    "import numpy as np"
   ]
  },
  {
   "cell_type": "code",
   "execution_count": 9,
   "metadata": {},
   "outputs": [],
   "source": [
    "df_311 = pd.read_csv('~/Downloads/311_Service_Requests_from_2010_to_Present.csv', usecols=[\"Unique Key\",\"Created Date\",\"Agency\",\n",
    "                                                      \"Agency Name\",\"Complaint Type\",\"Descriptor\",\"Incident Zip\"], parse_dates=[1], dtype={\"Incident Zip\": 'str'})"
   ]
  },
  {
   "cell_type": "code",
   "execution_count": 8,
   "metadata": {},
   "outputs": [
    {
     "data": {
      "text/html": [
       "<div>\n",
       "<style scoped>\n",
       "    .dataframe tbody tr th:only-of-type {\n",
       "        vertical-align: middle;\n",
       "    }\n",
       "\n",
       "    .dataframe tbody tr th {\n",
       "        vertical-align: top;\n",
       "    }\n",
       "\n",
       "    .dataframe thead th {\n",
       "        text-align: right;\n",
       "    }\n",
       "</style>\n",
       "<table border=\"1\" class=\"dataframe\">\n",
       "  <thead>\n",
       "    <tr style=\"text-align: right;\">\n",
       "      <th></th>\n",
       "      <th>Unique Key</th>\n",
       "      <th>Created Date</th>\n",
       "      <th>Agency</th>\n",
       "      <th>Agency Name</th>\n",
       "      <th>Complaint Type</th>\n",
       "      <th>Descriptor</th>\n",
       "      <th>Incident Zip</th>\n",
       "    </tr>\n",
       "  </thead>\n",
       "  <tbody>\n",
       "    <tr>\n",
       "      <th>0</th>\n",
       "      <td>31723508</td>\n",
       "      <td>2015-10-10 21:27:45</td>\n",
       "      <td>NYPD</td>\n",
       "      <td>New York City Police Department</td>\n",
       "      <td>Noise - Residential</td>\n",
       "      <td>Loud Music/Party</td>\n",
       "      <td>10023</td>\n",
       "    </tr>\n",
       "    <tr>\n",
       "      <th>1</th>\n",
       "      <td>31723509</td>\n",
       "      <td>2015-10-10 23:08:08</td>\n",
       "      <td>NYPD</td>\n",
       "      <td>New York City Police Department</td>\n",
       "      <td>Noise - Residential</td>\n",
       "      <td>Loud Music/Party</td>\n",
       "      <td>10034</td>\n",
       "    </tr>\n",
       "    <tr>\n",
       "      <th>2</th>\n",
       "      <td>31723510</td>\n",
       "      <td>2015-10-10 19:21:00</td>\n",
       "      <td>DEP</td>\n",
       "      <td>Department of Environmental Protection</td>\n",
       "      <td>Water System</td>\n",
       "      <td>Hydrant Running (WC3)</td>\n",
       "      <td>10021</td>\n",
       "    </tr>\n",
       "    <tr>\n",
       "      <th>3</th>\n",
       "      <td>31723511</td>\n",
       "      <td>2015-10-10 09:24:00</td>\n",
       "      <td>DSNY</td>\n",
       "      <td>BCC - Staten Island</td>\n",
       "      <td>Missed Collection (All Materials)</td>\n",
       "      <td>1 Missed Collection</td>\n",
       "      <td>10308</td>\n",
       "    </tr>\n",
       "    <tr>\n",
       "      <th>4</th>\n",
       "      <td>31723512</td>\n",
       "      <td>2015-10-10 19:55:09</td>\n",
       "      <td>DOT</td>\n",
       "      <td>Department of Transportation</td>\n",
       "      <td>Street Condition</td>\n",
       "      <td>Pothole</td>\n",
       "      <td>10470</td>\n",
       "    </tr>\n",
       "  </tbody>\n",
       "</table>\n",
       "</div>"
      ],
      "text/plain": [
       "   Unique Key        Created Date Agency  \\\n",
       "0    31723508 2015-10-10 21:27:45   NYPD   \n",
       "1    31723509 2015-10-10 23:08:08   NYPD   \n",
       "2    31723510 2015-10-10 19:21:00    DEP   \n",
       "3    31723511 2015-10-10 09:24:00   DSNY   \n",
       "4    31723512 2015-10-10 19:55:09    DOT   \n",
       "\n",
       "                              Agency Name                     Complaint Type  \\\n",
       "0         New York City Police Department                Noise - Residential   \n",
       "1         New York City Police Department                Noise - Residential   \n",
       "2  Department of Environmental Protection                       Water System   \n",
       "3                     BCC - Staten Island  Missed Collection (All Materials)   \n",
       "4            Department of Transportation                   Street Condition   \n",
       "\n",
       "              Descriptor Incident Zip  \n",
       "0       Loud Music/Party        10023  \n",
       "1       Loud Music/Party        10034  \n",
       "2  Hydrant Running (WC3)        10021  \n",
       "3    1 Missed Collection        10308  \n",
       "4                Pothole        10470  "
      ]
     },
     "execution_count": 8,
     "metadata": {},
     "output_type": "execute_result"
    }
   ],
   "source": [
    "df_311.head()"
   ]
  },
  {
   "cell_type": "code",
   "execution_count": 10,
   "metadata": {},
   "outputs": [],
   "source": [
    "df_311.to_csv(\"short_311.csv\")"
   ]
  },
  {
   "cell_type": "code",
   "execution_count": 11,
   "metadata": {},
   "outputs": [
    {
     "data": {
      "text/plain": [
       "(20715664, 7)"
      ]
     },
     "execution_count": 11,
     "metadata": {},
     "output_type": "execute_result"
    }
   ],
   "source": [
    "df_311.shape"
   ]
  },
  {
   "cell_type": "code",
   "execution_count": null,
   "metadata": {},
   "outputs": [],
   "source": []
  }
 ],
 "metadata": {
  "kernelspec": {
   "display_name": "Python 3",
   "language": "python",
   "name": "python3"
  },
  "language_info": {
   "codemirror_mode": {
    "name": "ipython",
    "version": 3
   },
   "file_extension": ".py",
   "mimetype": "text/x-python",
   "name": "python",
   "nbconvert_exporter": "python",
   "pygments_lexer": "ipython3",
   "version": "3.7.3"
  }
 },
 "nbformat": 4,
 "nbformat_minor": 2
}

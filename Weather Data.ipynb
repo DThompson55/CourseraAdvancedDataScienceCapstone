{
 "cells": [
  {
   "cell_type": "code",
   "execution_count": 1,
   "metadata": {},
   "outputs": [],
   "source": [
    "import pandas as pd\n",
    "import numpy as np"
   ]
  },
  {
   "cell_type": "code",
   "execution_count": 2,
   "metadata": {},
   "outputs": [],
   "source": [
    "df1 = pd.read_csv('~/Downloads/1746061.csv', parse_dates = [1], dtype={19: 'str', 30: 'str', 31: 'str', 33: 'str', 34: 'str', 41: 'str', 42: 'str', 43: 'str', 49: 'str', 51: 'str', 58: 'str', 69: 'str', 71: 'str', 75: 'str', 88: 'str', 89: 'str'})"
   ]
  },
  {
   "cell_type": "code",
   "execution_count": 3,
   "metadata": {},
   "outputs": [],
   "source": [
    "#df1 = pd.read_csv('~/Downloads/1746061.csv')"
   ]
  },
  {
   "cell_type": "code",
   "execution_count": 4,
   "metadata": {},
   "outputs": [
    {
     "data": {
      "text/plain": [
       "(51010, 124)"
      ]
     },
     "execution_count": 4,
     "metadata": {},
     "output_type": "execute_result"
    }
   ],
   "source": [
    "df1.shape"
   ]
  },
  {
   "cell_type": "code",
   "execution_count": 5,
   "metadata": {},
   "outputs": [],
   "source": [
    "always = [\"DATE\", \"REPORT_TYPE\", \"SOURCE\"]\n",
    "always = [\"DATE\"]\n",
    "\n",
    "monthly = always+[\"AWND\", \"CDSD\", \"CLDD\", \"DSNW\",  \"MonthlyGreatestPrecip\", \"MonthlyGreatestPrecipDate\", \"MonthlyGreatestSnowDepth\", \"MonthlyGreatestSnowDepthDate\", \"MonthlyGreatestSnowfall\", \"MonthlyGreatestSnowfallDate\", \"MonthlyMaxSeaLevelPressureValue\", \"MonthlyMaxSeaLevelPressureValueDate\", \"MonthlyMaxSeaLevelPressureValueTime\", \"MonthlyMaximumTemperature\", \"MonthlyMeanTemperature\", \"MonthlyMinSeaLevelPressureValue\", \"MonthlyMinSeaLevelPressureValueDate\", \"MonthlyMinSeaLevelPressureValueTime\", \"MonthlyMinimumTemperature\", \"MonthlySeaLevelPressure\", \"MonthlyStationPressure\", \"MonthlyTotalLiquidPrecipitation\", \"MonthlyTotalSnowfall\", \"MonthlyWetBulb\", \"NormalsCoolingDegreeDay\", \"NormalsHeatingDegreeDay\"]\n",
    "daily = always+[\"DailyAverageDewPointTemperature\", \"DailyAverageDryBulbTemperature\", \"DailyAverageRelativeHumidity\", \"DailyAverageSeaLevelPressure\", \"DailyAverageStationPressure\", \"DailyAverageWetBulbTemperature\", \"DailyAverageWindSpeed\", \"DailyCoolingDegreeDays\", \"DailyDepartureFromNormalAverageTemperature\", \"DailyHeatingDegreeDays\", \"DailyMaximumDryBulbTemperature\", \"DailyMinimumDryBulbTemperature\", \"DailyPeakWindDirection\", \"DailyPeakWindSpeed\", \"DailyPrecipitation\", \"DailySnowDepth\", \"DailySnowfall\", \"DailySustainedWindDirection\", \"DailySustainedWindSpeed\", \"Sunrise\", \"Sunset\"]\n",
    "daily = always+[\"DailyAverageDryBulbTemperature\", \"DailyPeakWindSpeed\", \"DailyPrecipitation\", \"DailySnowDepth\", \"DailySnowfall\", \"Sunrise\", \"Sunset\"]\n",
    "hourly = always+[\"HourlyAltimeterSetting\", \"HourlyDewPointTemperature\", \"HourlyDryBulbTemperature\", \"HourlyPressureTendency\", \"HourlyRelativeHumidity\", \"HourlySeaLevelPressure\", \"HourlyStationPressure\", \"HourlyVisibility\", \"HourlyWetBulbTemperature\", \"HourlyWindDirection\"]\n",
    "hourly = always+[\"HourlyPrecipitation\", \"HourlyPresentWeatherType\", \"HourlySkyConditions\", \"HourlyWindSpeed\"]\n",
    "drop_cols = [\"STATION\", \"ShortDurationEndDate010\", \"ShortDurationEndDate015\", \"ShortDurationEndDate020\", \"ShortDurationEndDate030\", \"ShortDurationEndDate045\", \"ShortDurationEndDate060\", \"ShortDurationEndDate080\", \"ShortDurationEndDate100\", \"ShortDurationEndDate120\", \"ShortDurationEndDate150\", \"ShortDurationEndDate180\", \"ShortDurationPrecipitationValue005\", \"ShortDurationPrecipitationValue010\", \"ShortDurationPrecipitationValue015\", \"ShortDurationPrecipitationValue020\", \"ShortDurationPrecipitationValue030\", \"ShortDurationPrecipitationValue045\", \"ShortDurationPrecipitationValue060\", \"ShortDurationPrecipitationValue080\", \"ShortDurationPrecipitationValue100\", \"ShortDurationPrecipitationValue120\", \"ShortDurationPrecipitationValue150\", \"ShortDurationPrecipitationValue180\", \"TStorms\", \"WindEquipmentChangeDate\", \"BackupDirection\", \"BackupDistance\", \"BackupDistanceUnit\", \"BackupElements\", \"BackupElevation\", \"BackupElevationUnit\", \"BackupEquipment\", \"BackupLatitude\", \"BackupLongitude\", \"BackupName\"]\n",
    "never = [\"BackupDirection\", \"BackupDistance\", \"BackupDistanceUnit\", \"BackupElements\", \"BackupElevation\", \"BackupElevationUnit\", \"BackupEquipment\", \"BackupLatitude\", \"BackupLongitude\", \"BackupName\"]\n",
    "never = never + drop_cols\n"
   ]
  },
  {
   "cell_type": "code",
   "execution_count": 6,
   "metadata": {},
   "outputs": [
    {
     "data": {
      "text/plain": [
       "array(['FM-15', 'SOD  ', 'FM-16', 'SOM  '], dtype=object)"
      ]
     },
     "execution_count": 6,
     "metadata": {},
     "output_type": "execute_result"
    }
   ],
   "source": [
    "df1[\"REPORT_TYPE\"].unique()"
   ]
  },
  {
   "cell_type": "code",
   "execution_count": 7,
   "metadata": {},
   "outputs": [
    {
     "data": {
      "text/plain": [
       "(51010, 88)"
      ]
     },
     "execution_count": 7,
     "metadata": {},
     "output_type": "execute_result"
    }
   ],
   "source": [
    "df1.drop(columns=never, inplace=True)\n",
    "df1.shape"
   ]
  },
  {
   "cell_type": "code",
   "execution_count": 8,
   "metadata": {},
   "outputs": [],
   "source": [
    "df_daily = df1.loc[lambda df: df.REPORT_TYPE == \"SOD  \", :][daily]\n",
    "df_16 = df1.loc[lambda df: df.REPORT_TYPE == \"FM-16\", :][hourly]\n",
    "df_15 = df1.loc[lambda df: df.REPORT_TYPE == \"FM-15\", :][hourly]\n",
    "df_hourly = pd.concat([df_15, df_16])\n"
   ]
  },
  {
   "cell_type": "code",
   "execution_count": 9,
   "metadata": {
    "scrolled": true
   },
   "outputs": [
    {
     "data": {
      "text/plain": [
       "array(['0', '0.01', '0.04', '0.07', '0.06', '0.05', '0.12', '0.11',\n",
       "       '0.03', '0.15', 'T', '0.02', '0.09', '0.17', '0.28', '0.24',\n",
       "       '0.23', '0.31', '0.29', '0.16', '0.14', '0.19', '0.08', '0.1',\n",
       "       '0.01s', '0.13', nan, '0.05s', '0.04s', '0.18', '0.03s', '0.26',\n",
       "       '0.4', '0.97', '0.06s', '0.02s', '0.16s', '0.25', '0.21', '0.39s',\n",
       "       '0.37', '0.36', '1.28', '0.41', '0.22', '0.09s', '0.60s', '0.3',\n",
       "       '0.2', '0.79', '0.11s', '0.63', '0.34', '0.27', '0.46', '0.58',\n",
       "       '0.14s', '0.81s', '0.32', '0.17s', '0.47', '0.44', '0.39', '0.45',\n",
       "       '0.62', '0.28s', '0.59', '0.82', '0.5', '0.54', '0.42', '0.43s',\n",
       "       '0.57', '0.61', '1.15', '0.38', '0.67', '0.33s', '0.52', '0.45s',\n",
       "       '0.96s', '0.55', '0.43', '0.69', '0.10s', '0.35', '0.68', '0.08s',\n",
       "       '1.12', '0.86', '0.33', '1.69', '0.73', '0.7', '0.87', '0.50s',\n",
       "       '0.29s', '0.07s', '0.41s', '1.13', '0.74', '0.51', '1.21', '1.22',\n",
       "       '0.99', '1', '1.08', '1.55', '1.57', '0.64', '0.71', '0.72',\n",
       "       '0.89'], dtype=object)"
      ]
     },
     "execution_count": 9,
     "metadata": {},
     "output_type": "execute_result"
    }
   ],
   "source": [
    "df_hourly.HourlyPrecipitation.unique()"
   ]
  },
  {
   "cell_type": "code",
   "execution_count": 10,
   "metadata": {},
   "outputs": [
    {
     "name": "stdout",
     "output_type": "stream",
     "text": [
      "Weather Types are  [nan 'SN' 'RA' 'BR' 'HZ' 'UP' 'FZRA' 'FG']\n"
     ]
    }
   ],
   "source": [
    "#df_hourly[\"x1\"] = df_hourly.HourlyPresentWeatherType.str.replace(\"[^A-Z ]\", \"\", case=True, flags=0, regex=True).apply(lambda x: (list(set(x.split()))) if (isinstance(x, str) ) else np.NaN)\n",
    "df_hourly[\"x1\"] = df_hourly.HourlyPresentWeatherType.str.replace(\"[^A-Z ]\", \"\", case=True, flags=0, regex=True).apply(lambda x: x.split() if (isinstance(x, str) ) else np.NaN)\n",
    "df_hourly[\"x2\"] = df_hourly.x1.apply(lambda x: x[-1] if (( isinstance(x, list) ) ) else np.NaN)\n",
    "\n",
    "print(\"Weather Types are \", (df_hourly[\"x2\"].unique()))\n",
    "\n",
    "#df_hourly[\"x3\"] = df_hourly.x1.apply(lambda x: x[1] if (( isinstance(x, list) and len(x) > 1 ) ) else np.NaN)\n",
    "df_hourly = pd.get_dummies(df_hourly, prefix=None, columns = [\"x2\"])\n",
    "df_hourly.rename(index=str, inplace=True, columns={\"x2_BR\": \"BR\", \"x2_FG\": \"FG\", \"x2_FZ\": \"FZ\", \"x2_HZ\": \"HZ\", \"x2_RA\": \"RA\", \"x2_SN\": \"SN\", \"x2_UP\": \"UP\", \"x2_FU\": \"FU\", \"x2_FZRA\": \"FZRA\"})\n",
    "\n",
    "df_hourly.HourlyPrecipitation = pd.to_numeric(df_hourly.HourlyPrecipitation.str.replace(\"[A-Z]\", \"\", case=False, flags=0, regex=True))\n",
    "df_hourly = df_hourly.fillna(0)\n",
    "\n",
    "\n",
    "#df_hourly[\"x4\"].unique()\n",
    "\n"
   ]
  },
  {
   "cell_type": "code",
   "execution_count": 11,
   "metadata": {},
   "outputs": [],
   "source": [
    "df_hourly = df_hourly.drop(columns=[\"HourlyPresentWeatherType\",\"HourlySkyConditions\",\"x1\" ])\n"
   ]
  },
  {
   "cell_type": "code",
   "execution_count": 12,
   "metadata": {},
   "outputs": [],
   "source": [
    "df_hourly.to_csv(\"hourly_weather_nyc.csv\")"
   ]
  },
  {
   "cell_type": "code",
   "execution_count": 13,
   "metadata": {},
   "outputs": [],
   "source": [
    "def cleanup(x):\n",
    "    #print(\"A1\",x.unique())\n",
    "    x  = x.str.replace(\"[A-Z]\", \"\", case=False, flags=0, regex=True)\n",
    "    #print(\"A2\",x.unique())\n",
    "    x  = x.str.replace(\"*\", \"\", case=False, flags=0, regex=False)\n",
    "    #print(\"A3\",x.unique())\n",
    "    x  = pd.to_numeric(x)\n",
    "    #print(\"B\",x.unique())\n",
    "  \n",
    "    return x\n",
    "#df_daily[df_daily['DailySnowDepth'].str.match(\"\")]"
   ]
  },
  {
   "cell_type": "code",
   "execution_count": 14,
   "metadata": {
    "scrolled": true
   },
   "outputs": [
    {
     "name": "stdout",
     "output_type": "stream",
     "text": [
      "Cleaned up Daily\n"
     ]
    }
   ],
   "source": [
    "\n",
    "df_daily['DailyAverageDryBulbTemperature'] = cleanup(df_daily.DailyAverageDryBulbTemperature)\n",
    "df_daily['DailyPeakWindSpeed'] = cleanup(df_daily.DailyPeakWindSpeed)\n",
    "df_daily['DailyPrecipitation'] = cleanup(df_daily.DailyPrecipitation)\n",
    "df_daily['DailySnowDepth'] = cleanup(df_daily.DailySnowDepth)\n",
    "df_daily['DailySnowfall'] = cleanup(df_daily.DailySnowfall)\n",
    "df_daily = df_daily.fillna(0)\n",
    "print(\"Cleaned up Daily\")\n",
    "df_daily.to_csv(\"daily_weather_nyc.csv\")\n",
    "\n",
    "\n",
    "\n",
    "\n",
    "\n",
    "\n",
    "\n"
   ]
  },
  {
   "cell_type": "code",
   "execution_count": null,
   "metadata": {
    "scrolled": true
   },
   "outputs": [],
   "source": []
  },
  {
   "cell_type": "code",
   "execution_count": null,
   "metadata": {},
   "outputs": [],
   "source": []
  }
 ],
 "metadata": {
  "kernelspec": {
   "display_name": "Python 3",
   "language": "python",
   "name": "python3"
  },
  "language_info": {
   "codemirror_mode": {
    "name": "ipython",
    "version": 3
   },
   "file_extension": ".py",
   "mimetype": "text/x-python",
   "name": "python",
   "nbconvert_exporter": "python",
   "pygments_lexer": "ipython3",
   "version": "3.7.3"
  }
 },
 "nbformat": 4,
 "nbformat_minor": 2
}

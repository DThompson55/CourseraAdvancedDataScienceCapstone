{
 "cells": [
  {
   "cell_type": "code",
   "execution_count": 5,
   "metadata": {},
   "outputs": [],
   "source": [
    "import pandas as pd\n",
    "import numpy as np\n",
    "\n",
    "df_joined = pd.read_csv(\"~/Projects/CourseraCapstone/joined.csv\")"
   ]
  },
  {
   "cell_type": "code",
   "execution_count": 10,
   "metadata": {},
   "outputs": [
    {
     "data": {
      "text/plain": [
       "DailyAverageDryBulbTemperature      55.748593\n",
       "DailyPeakWindSpeed                 233.879925\n",
       "DailyPrecipitation                   0.133227\n",
       "DailySnowDepth                       0.447780\n",
       "DailySnowfall                        0.108505\n",
       "count                             6499.690432\n",
       "dtype: float64"
      ]
     },
     "execution_count": 10,
     "metadata": {},
     "output_type": "execute_result"
    }
   ],
   "source": [
    "df_joined.mean()"
   ]
  },
  {
   "cell_type": "code",
   "execution_count": 15,
   "metadata": {},
   "outputs": [
    {
     "data": {
      "text/plain": [
       "DailyAverageDryBulbTemperature      17.717519\n",
       "DailyPeakWindSpeed                 651.819910\n",
       "DailyPrecipitation                   0.340474\n",
       "DailySnowDepth                       2.034956\n",
       "DailySnowfall                        0.956698\n",
       "count                             1178.807190\n",
       "dtype: float64"
      ]
     },
     "execution_count": 15,
     "metadata": {},
     "output_type": "execute_result"
    }
   ],
   "source": [
    "df_joined.std()"
   ]
  },
  {
   "cell_type": "code",
   "execution_count": 16,
   "metadata": {},
   "outputs": [
    {
     "data": {
      "text/plain": [
       "DailyAverageDryBulbTemperature    -0.195755\n",
       "DailyPeakWindSpeed                 2.750998\n",
       "DailyPrecipitation                 3.962309\n",
       "DailySnowDepth                     5.716529\n",
       "DailySnowfall                     17.665085\n",
       "count                              0.347010\n",
       "dtype: float64"
      ]
     },
     "execution_count": 16,
     "metadata": {},
     "output_type": "execute_result"
    }
   ],
   "source": [
    "df_joined.skew()"
   ]
  },
  {
   "cell_type": "code",
   "execution_count": 18,
   "metadata": {},
   "outputs": [
    {
     "data": {
      "text/plain": [
       "DailyAverageDryBulbTemperature     -0.912495\n",
       "DailyPeakWindSpeed                  5.576198\n",
       "DailyPrecipitation                 19.841373\n",
       "DailySnowDepth                     37.258593\n",
       "DailySnowfall                     432.330524\n",
       "count                               0.761587\n",
       "dtype: float64"
      ]
     },
     "execution_count": 18,
     "metadata": {},
     "output_type": "execute_result"
    }
   ],
   "source": [
    "df_joined.kurtosis()"
   ]
  },
  {
   "cell_type": "code",
   "execution_count": null,
   "metadata": {},
   "outputs": [],
   "source": []
  }
 ],
 "metadata": {
  "kernelspec": {
   "display_name": "Python 3",
   "language": "python",
   "name": "python3"
  },
  "language_info": {
   "codemirror_mode": {
    "name": "ipython",
    "version": 3
   },
   "file_extension": ".py",
   "mimetype": "text/x-python",
   "name": "python",
   "nbconvert_exporter": "python",
   "pygments_lexer": "ipython3",
   "version": "3.7.3"
  }
 },
 "nbformat": 4,
 "nbformat_minor": 2
}
